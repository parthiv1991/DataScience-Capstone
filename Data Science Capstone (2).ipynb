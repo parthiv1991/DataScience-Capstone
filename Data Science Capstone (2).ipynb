{
 "cells": [
  {
   "cell_type": "markdown",
   "metadata": {
    "collapsed": true
   },
   "source": [
    "# Car Accident Severity Report"
   ]
  },
  {
   "cell_type": "markdown",
   "metadata": {},
   "source": [
    "## Data Science Capstone Project for Coursera\n",
    "\n",
    "### 1. Introduction and Business Understanding\n",
    "\n",
    "With the increasing number of traffic on roads each year, there is an increase in number of accidents which occur due to various external factors such as weather conditions, road conditions, etc. There is a need to have a system in place which could predict the probability of an accident based on different factors, that would be a great tool for drivers. Such a system can make use of the real-time incoming data and alert drivers in real-time of the severity of an accident, which would decrease the probability of accidents occuring by a certain margin. This would also contribute to efficient traffic flow on roads, reducing the amount of time spent driving and in turn beneficial to the environment (reduced carbon emissions)."
   ]
  },
  {
   "cell_type": "markdown",
   "metadata": {},
   "source": [
    "### 2. Data Understanding\n",
    "The dataset used is from the SDOT Traffic Management Division. The dataset contains a parameter \"Severity\", which would be our target variable/predictor, which describes how severe an accident might occur based on certain conditions. The dataset has two different severity levels or codes - 1 and 2.\n",
    "Code 1 : Property damage\n",
    "Code 2 : Injury\n",
    "We would use the variables / conditions - weather, light and road conditions to predict the severity of an accident. These would be out dependent variables. "
   ]
  },
  {
   "cell_type": "code",
   "execution_count": 2,
   "metadata": {},
   "outputs": [
    {
     "name": "stderr",
     "output_type": "stream",
     "text": [
      "/opt/conda/envs/Python36/lib/python3.6/site-packages/IPython/core/interactiveshell.py:3020: DtypeWarning: Columns (33) have mixed types. Specify dtype option on import or set low_memory=False.\n",
      "  interactivity=interactivity, compiler=compiler, result=result)\n"
     ]
    },
    {
     "data": {
      "text/html": [
       "<div>\n",
       "<style scoped>\n",
       "    .dataframe tbody tr th:only-of-type {\n",
       "        vertical-align: middle;\n",
       "    }\n",
       "\n",
       "    .dataframe tbody tr th {\n",
       "        vertical-align: top;\n",
       "    }\n",
       "\n",
       "    .dataframe thead th {\n",
       "        text-align: right;\n",
       "    }\n",
       "</style>\n",
       "<table border=\"1\" class=\"dataframe\">\n",
       "  <thead>\n",
       "    <tr style=\"text-align: right;\">\n",
       "      <th></th>\n",
       "      <th>SEVERITYCODE</th>\n",
       "      <th>X</th>\n",
       "      <th>Y</th>\n",
       "      <th>OBJECTID</th>\n",
       "      <th>INCKEY</th>\n",
       "      <th>COLDETKEY</th>\n",
       "      <th>REPORTNO</th>\n",
       "      <th>STATUS</th>\n",
       "      <th>ADDRTYPE</th>\n",
       "      <th>INTKEY</th>\n",
       "      <th>...</th>\n",
       "      <th>ROADCOND</th>\n",
       "      <th>LIGHTCOND</th>\n",
       "      <th>PEDROWNOTGRNT</th>\n",
       "      <th>SDOTCOLNUM</th>\n",
       "      <th>SPEEDING</th>\n",
       "      <th>ST_COLCODE</th>\n",
       "      <th>ST_COLDESC</th>\n",
       "      <th>SEGLANEKEY</th>\n",
       "      <th>CROSSWALKKEY</th>\n",
       "      <th>HITPARKEDCAR</th>\n",
       "    </tr>\n",
       "  </thead>\n",
       "  <tbody>\n",
       "    <tr>\n",
       "      <th>0</th>\n",
       "      <td>2</td>\n",
       "      <td>-122.323148</td>\n",
       "      <td>47.703140</td>\n",
       "      <td>1</td>\n",
       "      <td>1307</td>\n",
       "      <td>1307</td>\n",
       "      <td>3502005</td>\n",
       "      <td>Matched</td>\n",
       "      <td>Intersection</td>\n",
       "      <td>37475.0</td>\n",
       "      <td>...</td>\n",
       "      <td>Wet</td>\n",
       "      <td>Daylight</td>\n",
       "      <td>NaN</td>\n",
       "      <td>NaN</td>\n",
       "      <td>NaN</td>\n",
       "      <td>10</td>\n",
       "      <td>Entering at angle</td>\n",
       "      <td>0</td>\n",
       "      <td>0</td>\n",
       "      <td>N</td>\n",
       "    </tr>\n",
       "    <tr>\n",
       "      <th>1</th>\n",
       "      <td>1</td>\n",
       "      <td>-122.347294</td>\n",
       "      <td>47.647172</td>\n",
       "      <td>2</td>\n",
       "      <td>52200</td>\n",
       "      <td>52200</td>\n",
       "      <td>2607959</td>\n",
       "      <td>Matched</td>\n",
       "      <td>Block</td>\n",
       "      <td>NaN</td>\n",
       "      <td>...</td>\n",
       "      <td>Wet</td>\n",
       "      <td>Dark - Street Lights On</td>\n",
       "      <td>NaN</td>\n",
       "      <td>6354039.0</td>\n",
       "      <td>NaN</td>\n",
       "      <td>11</td>\n",
       "      <td>From same direction - both going straight - bo...</td>\n",
       "      <td>0</td>\n",
       "      <td>0</td>\n",
       "      <td>N</td>\n",
       "    </tr>\n",
       "    <tr>\n",
       "      <th>2</th>\n",
       "      <td>1</td>\n",
       "      <td>-122.334540</td>\n",
       "      <td>47.607871</td>\n",
       "      <td>3</td>\n",
       "      <td>26700</td>\n",
       "      <td>26700</td>\n",
       "      <td>1482393</td>\n",
       "      <td>Matched</td>\n",
       "      <td>Block</td>\n",
       "      <td>NaN</td>\n",
       "      <td>...</td>\n",
       "      <td>Dry</td>\n",
       "      <td>Daylight</td>\n",
       "      <td>NaN</td>\n",
       "      <td>4323031.0</td>\n",
       "      <td>NaN</td>\n",
       "      <td>32</td>\n",
       "      <td>One parked--one moving</td>\n",
       "      <td>0</td>\n",
       "      <td>0</td>\n",
       "      <td>N</td>\n",
       "    </tr>\n",
       "    <tr>\n",
       "      <th>3</th>\n",
       "      <td>1</td>\n",
       "      <td>-122.334803</td>\n",
       "      <td>47.604803</td>\n",
       "      <td>4</td>\n",
       "      <td>1144</td>\n",
       "      <td>1144</td>\n",
       "      <td>3503937</td>\n",
       "      <td>Matched</td>\n",
       "      <td>Block</td>\n",
       "      <td>NaN</td>\n",
       "      <td>...</td>\n",
       "      <td>Dry</td>\n",
       "      <td>Daylight</td>\n",
       "      <td>NaN</td>\n",
       "      <td>NaN</td>\n",
       "      <td>NaN</td>\n",
       "      <td>23</td>\n",
       "      <td>From same direction - all others</td>\n",
       "      <td>0</td>\n",
       "      <td>0</td>\n",
       "      <td>N</td>\n",
       "    </tr>\n",
       "    <tr>\n",
       "      <th>4</th>\n",
       "      <td>2</td>\n",
       "      <td>-122.306426</td>\n",
       "      <td>47.545739</td>\n",
       "      <td>5</td>\n",
       "      <td>17700</td>\n",
       "      <td>17700</td>\n",
       "      <td>1807429</td>\n",
       "      <td>Matched</td>\n",
       "      <td>Intersection</td>\n",
       "      <td>34387.0</td>\n",
       "      <td>...</td>\n",
       "      <td>Wet</td>\n",
       "      <td>Daylight</td>\n",
       "      <td>NaN</td>\n",
       "      <td>4028032.0</td>\n",
       "      <td>NaN</td>\n",
       "      <td>10</td>\n",
       "      <td>Entering at angle</td>\n",
       "      <td>0</td>\n",
       "      <td>0</td>\n",
       "      <td>N</td>\n",
       "    </tr>\n",
       "  </tbody>\n",
       "</table>\n",
       "<p>5 rows × 38 columns</p>\n",
       "</div>"
      ],
      "text/plain": [
       "   SEVERITYCODE           X          Y  OBJECTID  INCKEY  COLDETKEY REPORTNO  \\\n",
       "0             2 -122.323148  47.703140         1    1307       1307  3502005   \n",
       "1             1 -122.347294  47.647172         2   52200      52200  2607959   \n",
       "2             1 -122.334540  47.607871         3   26700      26700  1482393   \n",
       "3             1 -122.334803  47.604803         4    1144       1144  3503937   \n",
       "4             2 -122.306426  47.545739         5   17700      17700  1807429   \n",
       "\n",
       "    STATUS      ADDRTYPE   INTKEY  ... ROADCOND                LIGHTCOND  \\\n",
       "0  Matched  Intersection  37475.0  ...      Wet                 Daylight   \n",
       "1  Matched         Block      NaN  ...      Wet  Dark - Street Lights On   \n",
       "2  Matched         Block      NaN  ...      Dry                 Daylight   \n",
       "3  Matched         Block      NaN  ...      Dry                 Daylight   \n",
       "4  Matched  Intersection  34387.0  ...      Wet                 Daylight   \n",
       "\n",
       "  PEDROWNOTGRNT  SDOTCOLNUM SPEEDING ST_COLCODE  \\\n",
       "0           NaN         NaN      NaN         10   \n",
       "1           NaN   6354039.0      NaN         11   \n",
       "2           NaN   4323031.0      NaN         32   \n",
       "3           NaN         NaN      NaN         23   \n",
       "4           NaN   4028032.0      NaN         10   \n",
       "\n",
       "                                          ST_COLDESC  SEGLANEKEY  \\\n",
       "0                                  Entering at angle           0   \n",
       "1  From same direction - both going straight - bo...           0   \n",
       "2                             One parked--one moving           0   \n",
       "3                   From same direction - all others           0   \n",
       "4                                  Entering at angle           0   \n",
       "\n",
       "   CROSSWALKKEY  HITPARKEDCAR  \n",
       "0             0             N  \n",
       "1             0             N  \n",
       "2             0             N  \n",
       "3             0             N  \n",
       "4             0             N  \n",
       "\n",
       "[5 rows x 38 columns]"
      ]
     },
     "execution_count": 2,
     "metadata": {},
     "output_type": "execute_result"
    }
   ],
   "source": [
    "import numpy as np\n",
    "import pandas as pd\n",
    "import matplotlib.pyplot as plt\n",
    "import seaborn as sb\n",
    "import matplotlib.ticker as ticker\n",
    "from sklearn import preprocessing\n",
    "from matplotlib.ticker import NullFormatter\n",
    "%matplotlib inline\n",
    "#import types\n",
    "from botocore.client import Config\n",
    "import ibm_boto3\n",
    "\n",
    "def __iter__(self): return 0\n",
    "\n",
    "# @hidden_cell\n",
    "# The following code accesses a file in your IBM Cloud Object Storage. It includes your credentials.\n",
    "# You might want to remove those credentials before you share the notebook.\n",
    "client_451f054f57bf4e8897661efbcb545ebd = ibm_boto3.client(service_name='s3',\n",
    "    ibm_api_key_id='G2drd56SSK20JifMN_c3gjNR3zI-xXDrujnVGlejsoko',\n",
    "    ibm_auth_endpoint=\"https://iam.cloud.ibm.com/oidc/token\",\n",
    "    config=Config(signature_version='oauth'),\n",
    "    endpoint_url='https://s3.eu-geo.objectstorage.service.networklayer.com')\n",
    "\n",
    "body = client_451f054f57bf4e8897661efbcb545ebd.get_object(Bucket='pythonvisualizationassignment-donotdelete-pr-rssnshdzoqwhbv',Key='Data-Collisions.csv')['Body']\n",
    "# add missing __iter__ method, so pandas accepts body as file-like object\n",
    "if not hasattr(body, \"__iter__\"): body.__iter__ = types.MethodType( __iter__, body )\n",
    "\n",
    "df1 = pd.read_csv(body)\n",
    "df1.head()"
   ]
  },
  {
   "cell_type": "markdown",
   "metadata": {},
   "source": [
    "### 3. Data Preparation\n",
    "In this section, we have already uploaded the original dataset as a dataframe. We would now delete all columns except the dependent variables. We drop all rows which contain the variable \"Unknown\" and \"Other\" as values, since these unknown conditions are not helpful for accurate prediction. We convert the categorical values into numerical values using one-hot encoding, and we drop all categorical values having less that 1% influence on the severity outcome. This also reduces the dataset to a certain extent, reducing computation efforts."
   ]
  },
  {
   "cell_type": "code",
   "execution_count": 3,
   "metadata": {},
   "outputs": [
    {
     "data": {
      "text/plain": [
       "(194673, 6)"
      ]
     },
     "execution_count": 3,
     "metadata": {},
     "output_type": "execute_result"
    }
   ],
   "source": [
    "df = pd.DataFrame()\n",
    "df = df1[['SEVERITYCODE','ROADCOND','LIGHTCOND','WEATHER','PERSONCOUNT','VEHCOUNT']].copy()\n",
    "df.shape"
   ]
  },
  {
   "cell_type": "code",
   "execution_count": 4,
   "metadata": {},
   "outputs": [
    {
     "data": {
      "text/html": [
       "<div>\n",
       "<style scoped>\n",
       "    .dataframe tbody tr th:only-of-type {\n",
       "        vertical-align: middle;\n",
       "    }\n",
       "\n",
       "    .dataframe tbody tr th {\n",
       "        vertical-align: top;\n",
       "    }\n",
       "\n",
       "    .dataframe thead th {\n",
       "        text-align: right;\n",
       "    }\n",
       "</style>\n",
       "<table border=\"1\" class=\"dataframe\">\n",
       "  <thead>\n",
       "    <tr style=\"text-align: right;\">\n",
       "      <th></th>\n",
       "      <th>SEVERITYCODE</th>\n",
       "      <th>ROADCOND</th>\n",
       "      <th>LIGHTCOND</th>\n",
       "      <th>WEATHER</th>\n",
       "      <th>PERSONCOUNT</th>\n",
       "      <th>VEHCOUNT</th>\n",
       "    </tr>\n",
       "  </thead>\n",
       "  <tbody>\n",
       "    <tr>\n",
       "      <th>0</th>\n",
       "      <td>2</td>\n",
       "      <td>Wet</td>\n",
       "      <td>Daylight</td>\n",
       "      <td>Overcast</td>\n",
       "      <td>2</td>\n",
       "      <td>2</td>\n",
       "    </tr>\n",
       "    <tr>\n",
       "      <th>1</th>\n",
       "      <td>1</td>\n",
       "      <td>Wet</td>\n",
       "      <td>Dark - Street Lights On</td>\n",
       "      <td>Raining</td>\n",
       "      <td>2</td>\n",
       "      <td>2</td>\n",
       "    </tr>\n",
       "    <tr>\n",
       "      <th>2</th>\n",
       "      <td>1</td>\n",
       "      <td>Dry</td>\n",
       "      <td>Daylight</td>\n",
       "      <td>Overcast</td>\n",
       "      <td>4</td>\n",
       "      <td>3</td>\n",
       "    </tr>\n",
       "    <tr>\n",
       "      <th>3</th>\n",
       "      <td>1</td>\n",
       "      <td>Dry</td>\n",
       "      <td>Daylight</td>\n",
       "      <td>Clear</td>\n",
       "      <td>3</td>\n",
       "      <td>3</td>\n",
       "    </tr>\n",
       "    <tr>\n",
       "      <th>4</th>\n",
       "      <td>2</td>\n",
       "      <td>Wet</td>\n",
       "      <td>Daylight</td>\n",
       "      <td>Raining</td>\n",
       "      <td>2</td>\n",
       "      <td>2</td>\n",
       "    </tr>\n",
       "  </tbody>\n",
       "</table>\n",
       "</div>"
      ],
      "text/plain": [
       "   SEVERITYCODE ROADCOND                LIGHTCOND   WEATHER  PERSONCOUNT  \\\n",
       "0             2      Wet                 Daylight  Overcast            2   \n",
       "1             1      Wet  Dark - Street Lights On   Raining            2   \n",
       "2             1      Dry                 Daylight  Overcast            4   \n",
       "3             1      Dry                 Daylight     Clear            3   \n",
       "4             2      Wet                 Daylight   Raining            2   \n",
       "\n",
       "   VEHCOUNT  \n",
       "0         2  \n",
       "1         2  \n",
       "2         3  \n",
       "3         3  \n",
       "4         2  "
      ]
     },
     "execution_count": 4,
     "metadata": {},
     "output_type": "execute_result"
    }
   ],
   "source": [
    "df.head()"
   ]
  },
  {
   "cell_type": "code",
   "execution_count": 5,
   "metadata": {},
   "outputs": [
    {
     "data": {
      "text/plain": [
       "SEVERITYCODE  LIGHTCOND               \n",
       "1             Daylight                    0.586028\n",
       "              Dark - Street Lights On     0.257030\n",
       "              Unknown                     0.097187\n",
       "              Dusk                        0.029893\n",
       "              Dawn                        0.012673\n",
       "              Dark - No Street Lights     0.009086\n",
       "              Dark - Street Lights Off    0.006669\n",
       "              Other                       0.001382\n",
       "              Dark - Unknown Lighting     0.000053\n",
       "2             Daylight                    0.675050\n",
       "              Dark - Street Lights On     0.253512\n",
       "              Dusk                        0.034047\n",
       "              Dawn                        0.014431\n",
       "              Unknown                     0.010596\n",
       "              Dark - No Street Lights     0.005850\n",
       "              Dark - Street Lights Off    0.005534\n",
       "              Other                       0.000911\n",
       "              Dark - Unknown Lighting     0.000070\n",
       "Name: LIGHTCOND, dtype: float64"
      ]
     },
     "execution_count": 5,
     "metadata": {},
     "output_type": "execute_result"
    }
   ],
   "source": [
    "df.groupby(['SEVERITYCODE'])['LIGHTCOND'].value_counts(normalize=True)"
   ]
  },
  {
   "cell_type": "code",
   "execution_count": 6,
   "metadata": {},
   "outputs": [
    {
     "data": {
      "text/plain": [
       "SEVERITYCODE  ROADCOND      \n",
       "1             Dry               0.637170\n",
       "              Wet               0.239329\n",
       "              Unknown           0.108116\n",
       "              Ice               0.007062\n",
       "              Snow/Slush        0.006315\n",
       "              Other             0.000672\n",
       "              Standing Water    0.000641\n",
       "              Sand/Mud/Dirt     0.000392\n",
       "              Oil               0.000302\n",
       "2             Dry               0.701302\n",
       "              Wet               0.275784\n",
       "              Unknown           0.013111\n",
       "              Ice               0.004779\n",
       "              Snow/Slush        0.002923\n",
       "              Other             0.000753\n",
       "              Standing Water    0.000525\n",
       "              Oil               0.000420\n",
       "              Sand/Mud/Dirt     0.000403\n",
       "Name: ROADCOND, dtype: float64"
      ]
     },
     "execution_count": 6,
     "metadata": {},
     "output_type": "execute_result"
    }
   ],
   "source": [
    "df.groupby(['SEVERITYCODE'])['ROADCOND'].value_counts(normalize=True)"
   ]
  },
  {
   "cell_type": "code",
   "execution_count": 7,
   "metadata": {},
   "outputs": [
    {
     "data": {
      "text/plain": [
       "SEVERITYCODE  WEATHER                 \n",
       "1             Clear                       0.568316\n",
       "              Raining                     0.165819\n",
       "              Overcast                    0.143175\n",
       "              Unknown                     0.107746\n",
       "              Snowing                     0.005555\n",
       "              Other                       0.005404\n",
       "              Fog/Smog/Smoke              0.002883\n",
       "              Sleet/Hail/Freezing Rain    0.000642\n",
       "              Blowing Sand/Dirt           0.000309\n",
       "              Severe Crosswind            0.000136\n",
       "              Partly Cloudy               0.000015\n",
       "2             Clear                       0.627627\n",
       "              Raining                     0.195713\n",
       "              Overcast                    0.153142\n",
       "              Unknown                     0.014290\n",
       "              Fog/Smog/Smoke              0.003275\n",
       "              Snowing                     0.002995\n",
       "              Other                       0.002031\n",
       "              Sleet/Hail/Freezing Rain    0.000490\n",
       "              Blowing Sand/Dirt           0.000263\n",
       "              Severe Crosswind            0.000123\n",
       "              Partly Cloudy               0.000053\n",
       "Name: WEATHER, dtype: float64"
      ]
     },
     "execution_count": 7,
     "metadata": {},
     "output_type": "execute_result"
    }
   ],
   "source": [
    "df.groupby(['SEVERITYCODE'])['WEATHER'].value_counts(normalize=True)"
   ]
  },
  {
   "cell_type": "code",
   "execution_count": 8,
   "metadata": {
    "scrolled": true
   },
   "outputs": [
    {
     "data": {
      "text/plain": [
       "(169957, 6)"
      ]
     },
     "execution_count": 8,
     "metadata": {},
     "output_type": "execute_result"
    }
   ],
   "source": [
    "# Replacing the unknown variables with NaN and eventually dropping those rows\n",
    "df = df.replace(['Unknown', 'Other'], np.nan)\n",
    "df = df.dropna()\n",
    "df.shape"
   ]
  },
  {
   "cell_type": "code",
   "execution_count": 9,
   "metadata": {},
   "outputs": [
    {
     "data": {
      "text/html": [
       "<div>\n",
       "<style scoped>\n",
       "    .dataframe tbody tr th:only-of-type {\n",
       "        vertical-align: middle;\n",
       "    }\n",
       "\n",
       "    .dataframe tbody tr th {\n",
       "        vertical-align: top;\n",
       "    }\n",
       "\n",
       "    .dataframe thead th {\n",
       "        text-align: right;\n",
       "    }\n",
       "</style>\n",
       "<table border=\"1\" class=\"dataframe\">\n",
       "  <thead>\n",
       "    <tr style=\"text-align: right;\">\n",
       "      <th></th>\n",
       "      <th>SEVERITYCODE</th>\n",
       "      <th>PERSONCOUNT</th>\n",
       "      <th>VEHCOUNT</th>\n",
       "      <th>Dark - Street Lights On</th>\n",
       "      <th>Dawn</th>\n",
       "      <th>Daylight</th>\n",
       "      <th>Dusk</th>\n",
       "      <th>Dry</th>\n",
       "      <th>Ice</th>\n",
       "      <th>Snow/Slush</th>\n",
       "      <th>Wet</th>\n",
       "      <th>Clear</th>\n",
       "      <th>Fog/Smog/Smoke</th>\n",
       "      <th>Overcast</th>\n",
       "      <th>Raining</th>\n",
       "      <th>Snowing</th>\n",
       "    </tr>\n",
       "  </thead>\n",
       "  <tbody>\n",
       "    <tr>\n",
       "      <th>0</th>\n",
       "      <td>2</td>\n",
       "      <td>2</td>\n",
       "      <td>2</td>\n",
       "      <td>0</td>\n",
       "      <td>0</td>\n",
       "      <td>1</td>\n",
       "      <td>0</td>\n",
       "      <td>0</td>\n",
       "      <td>0</td>\n",
       "      <td>0</td>\n",
       "      <td>1</td>\n",
       "      <td>0</td>\n",
       "      <td>0</td>\n",
       "      <td>1</td>\n",
       "      <td>0</td>\n",
       "      <td>0</td>\n",
       "    </tr>\n",
       "    <tr>\n",
       "      <th>1</th>\n",
       "      <td>1</td>\n",
       "      <td>2</td>\n",
       "      <td>2</td>\n",
       "      <td>1</td>\n",
       "      <td>0</td>\n",
       "      <td>0</td>\n",
       "      <td>0</td>\n",
       "      <td>0</td>\n",
       "      <td>0</td>\n",
       "      <td>0</td>\n",
       "      <td>1</td>\n",
       "      <td>0</td>\n",
       "      <td>0</td>\n",
       "      <td>0</td>\n",
       "      <td>1</td>\n",
       "      <td>0</td>\n",
       "    </tr>\n",
       "    <tr>\n",
       "      <th>2</th>\n",
       "      <td>1</td>\n",
       "      <td>4</td>\n",
       "      <td>3</td>\n",
       "      <td>0</td>\n",
       "      <td>0</td>\n",
       "      <td>1</td>\n",
       "      <td>0</td>\n",
       "      <td>1</td>\n",
       "      <td>0</td>\n",
       "      <td>0</td>\n",
       "      <td>0</td>\n",
       "      <td>0</td>\n",
       "      <td>0</td>\n",
       "      <td>1</td>\n",
       "      <td>0</td>\n",
       "      <td>0</td>\n",
       "    </tr>\n",
       "    <tr>\n",
       "      <th>3</th>\n",
       "      <td>1</td>\n",
       "      <td>3</td>\n",
       "      <td>3</td>\n",
       "      <td>0</td>\n",
       "      <td>0</td>\n",
       "      <td>1</td>\n",
       "      <td>0</td>\n",
       "      <td>1</td>\n",
       "      <td>0</td>\n",
       "      <td>0</td>\n",
       "      <td>0</td>\n",
       "      <td>1</td>\n",
       "      <td>0</td>\n",
       "      <td>0</td>\n",
       "      <td>0</td>\n",
       "      <td>0</td>\n",
       "    </tr>\n",
       "    <tr>\n",
       "      <th>4</th>\n",
       "      <td>2</td>\n",
       "      <td>2</td>\n",
       "      <td>2</td>\n",
       "      <td>0</td>\n",
       "      <td>0</td>\n",
       "      <td>1</td>\n",
       "      <td>0</td>\n",
       "      <td>0</td>\n",
       "      <td>0</td>\n",
       "      <td>0</td>\n",
       "      <td>1</td>\n",
       "      <td>0</td>\n",
       "      <td>0</td>\n",
       "      <td>0</td>\n",
       "      <td>1</td>\n",
       "      <td>0</td>\n",
       "    </tr>\n",
       "  </tbody>\n",
       "</table>\n",
       "</div>"
      ],
      "text/plain": [
       "   SEVERITYCODE  PERSONCOUNT  VEHCOUNT  Dark - Street Lights On  Dawn  \\\n",
       "0             2            2         2                        0     0   \n",
       "1             1            2         2                        1     0   \n",
       "2             1            4         3                        0     0   \n",
       "3             1            3         3                        0     0   \n",
       "4             2            2         2                        0     0   \n",
       "\n",
       "   Daylight  Dusk  Dry  Ice  Snow/Slush  Wet  Clear  Fog/Smog/Smoke  Overcast  \\\n",
       "0         1     0    0    0           0    1      0               0         1   \n",
       "1         0     0    0    0           0    1      0               0         0   \n",
       "2         1     0    1    0           0    0      0               0         1   \n",
       "3         1     0    1    0           0    0      1               0         0   \n",
       "4         1     0    0    0           0    1      0               0         0   \n",
       "\n",
       "   Raining  Snowing  \n",
       "0        0        0  \n",
       "1        1        0  \n",
       "2        0        0  \n",
       "3        0        0  \n",
       "4        1        0  "
      ]
     },
     "execution_count": 9,
     "metadata": {},
     "output_type": "execute_result"
    }
   ],
   "source": [
    "# One-hot encoding the categorical values and preparing our dataframe for the model\n",
    "Feature = pd.concat([df, pd.get_dummies(df['LIGHTCOND']), pd.get_dummies(df['ROADCOND']), pd.get_dummies(df['WEATHER'])], axis=1)\n",
    "Feature.drop(['Dark - Unknown Lighting','Dark - Street Lights Off','Dark - No Street Lights','LIGHTCOND','Standing Water','Oil','Sand/Mud/Dirt','ROADCOND',\n",
    "        'Partly Cloudy','Severe Crosswind','Blowing Sand/Dirt','Sleet/Hail/Freezing Rain','WEATHER'], axis=1, inplace=True)\n",
    "Feature.head()"
   ]
  },
  {
   "cell_type": "code",
   "execution_count": 10,
   "metadata": {},
   "outputs": [
    {
     "data": {
      "text/html": [
       "<div>\n",
       "<style scoped>\n",
       "    .dataframe tbody tr th:only-of-type {\n",
       "        vertical-align: middle;\n",
       "    }\n",
       "\n",
       "    .dataframe tbody tr th {\n",
       "        vertical-align: top;\n",
       "    }\n",
       "\n",
       "    .dataframe thead th {\n",
       "        text-align: right;\n",
       "    }\n",
       "</style>\n",
       "<table border=\"1\" class=\"dataframe\">\n",
       "  <thead>\n",
       "    <tr style=\"text-align: right;\">\n",
       "      <th></th>\n",
       "      <th>SC</th>\n",
       "      <th>Persons</th>\n",
       "      <th>Vehicles</th>\n",
       "      <th>Dark</th>\n",
       "      <th>Dawn</th>\n",
       "      <th>Daylight</th>\n",
       "      <th>Dusk</th>\n",
       "      <th>Dry</th>\n",
       "      <th>Ice</th>\n",
       "      <th>Snow/Slush</th>\n",
       "      <th>Wet</th>\n",
       "      <th>Clear</th>\n",
       "      <th>Fog/Smog/Smoke</th>\n",
       "      <th>Overcast</th>\n",
       "      <th>Raining</th>\n",
       "      <th>Snowing</th>\n",
       "    </tr>\n",
       "  </thead>\n",
       "  <tbody>\n",
       "    <tr>\n",
       "      <th>0</th>\n",
       "      <td>2</td>\n",
       "      <td>2</td>\n",
       "      <td>2</td>\n",
       "      <td>0</td>\n",
       "      <td>0</td>\n",
       "      <td>1</td>\n",
       "      <td>0</td>\n",
       "      <td>0</td>\n",
       "      <td>0</td>\n",
       "      <td>0</td>\n",
       "      <td>1</td>\n",
       "      <td>0</td>\n",
       "      <td>0</td>\n",
       "      <td>1</td>\n",
       "      <td>0</td>\n",
       "      <td>0</td>\n",
       "    </tr>\n",
       "    <tr>\n",
       "      <th>1</th>\n",
       "      <td>1</td>\n",
       "      <td>2</td>\n",
       "      <td>2</td>\n",
       "      <td>1</td>\n",
       "      <td>0</td>\n",
       "      <td>0</td>\n",
       "      <td>0</td>\n",
       "      <td>0</td>\n",
       "      <td>0</td>\n",
       "      <td>0</td>\n",
       "      <td>1</td>\n",
       "      <td>0</td>\n",
       "      <td>0</td>\n",
       "      <td>0</td>\n",
       "      <td>1</td>\n",
       "      <td>0</td>\n",
       "    </tr>\n",
       "    <tr>\n",
       "      <th>2</th>\n",
       "      <td>1</td>\n",
       "      <td>4</td>\n",
       "      <td>3</td>\n",
       "      <td>0</td>\n",
       "      <td>0</td>\n",
       "      <td>1</td>\n",
       "      <td>0</td>\n",
       "      <td>1</td>\n",
       "      <td>0</td>\n",
       "      <td>0</td>\n",
       "      <td>0</td>\n",
       "      <td>0</td>\n",
       "      <td>0</td>\n",
       "      <td>1</td>\n",
       "      <td>0</td>\n",
       "      <td>0</td>\n",
       "    </tr>\n",
       "    <tr>\n",
       "      <th>3</th>\n",
       "      <td>1</td>\n",
       "      <td>3</td>\n",
       "      <td>3</td>\n",
       "      <td>0</td>\n",
       "      <td>0</td>\n",
       "      <td>1</td>\n",
       "      <td>0</td>\n",
       "      <td>1</td>\n",
       "      <td>0</td>\n",
       "      <td>0</td>\n",
       "      <td>0</td>\n",
       "      <td>1</td>\n",
       "      <td>0</td>\n",
       "      <td>0</td>\n",
       "      <td>0</td>\n",
       "      <td>0</td>\n",
       "    </tr>\n",
       "    <tr>\n",
       "      <th>4</th>\n",
       "      <td>2</td>\n",
       "      <td>2</td>\n",
       "      <td>2</td>\n",
       "      <td>0</td>\n",
       "      <td>0</td>\n",
       "      <td>1</td>\n",
       "      <td>0</td>\n",
       "      <td>0</td>\n",
       "      <td>0</td>\n",
       "      <td>0</td>\n",
       "      <td>1</td>\n",
       "      <td>0</td>\n",
       "      <td>0</td>\n",
       "      <td>0</td>\n",
       "      <td>1</td>\n",
       "      <td>0</td>\n",
       "    </tr>\n",
       "  </tbody>\n",
       "</table>\n",
       "</div>"
      ],
      "text/plain": [
       "   SC  Persons  Vehicles  Dark  Dawn  Daylight  Dusk  Dry  Ice  Snow/Slush  \\\n",
       "0   2        2         2     0     0         1     0    0    0           0   \n",
       "1   1        2         2     1     0         0     0    0    0           0   \n",
       "2   1        4         3     0     0         1     0    1    0           0   \n",
       "3   1        3         3     0     0         1     0    1    0           0   \n",
       "4   2        2         2     0     0         1     0    0    0           0   \n",
       "\n",
       "   Wet  Clear  Fog/Smog/Smoke  Overcast  Raining  Snowing  \n",
       "0    1      0               0         1        0        0  \n",
       "1    1      0               0         0        1        0  \n",
       "2    0      0               0         1        0        0  \n",
       "3    0      1               0         0        0        0  \n",
       "4    1      0               0         0        1        0  "
      ]
     },
     "execution_count": 10,
     "metadata": {},
     "output_type": "execute_result"
    }
   ],
   "source": [
    "Feature = Feature.rename(columns={'SEVERITYCODE' : 'SC', 'Dark - Street Lights On' : 'Dark', 'PERSONCOUNT' : 'Persons', 'VEHCOUNT' : 'Vehicles'})\n",
    "Feature.head()"
   ]
  },
  {
   "cell_type": "code",
   "execution_count": 11,
   "metadata": {},
   "outputs": [
    {
     "data": {
      "text/plain": [
       "(169957, 16)"
      ]
     },
     "execution_count": 11,
     "metadata": {},
     "output_type": "execute_result"
    }
   ],
   "source": [
    "Feature.shape"
   ]
  },
  {
   "cell_type": "code",
   "execution_count": 12,
   "metadata": {},
   "outputs": [],
   "source": [
    "# Preparing the X and y datasets for the model\n",
    "y = Feature['SC'].values\n",
    "y[0:8]\n",
    "Feature = Feature.drop(['SC'], axis=1)\n",
    "X = Feature"
   ]
  },
  {
   "cell_type": "code",
   "execution_count": 13,
   "metadata": {},
   "outputs": [
    {
     "name": "stderr",
     "output_type": "stream",
     "text": [
      "/opt/conda/envs/Python36/lib/python3.6/site-packages/sklearn/preprocessing/data.py:645: DataConversionWarning: Data with input dtype uint8, int64 were all converted to float64 by StandardScaler.\n",
      "  return self.partial_fit(X, y)\n",
      "/opt/conda/envs/Python36/lib/python3.6/site-packages/ipykernel/__main__.py:1: DataConversionWarning: Data with input dtype uint8, int64 were all converted to float64 by StandardScaler.\n",
      "  if __name__ == '__main__':\n"
     ]
    },
    {
     "data": {
      "text/plain": [
       "array([[-0.35811011,  0.05158027, -0.61597105, -0.12000911,  0.71354465,\n",
       "        -0.18540296, -1.58324162, -0.07996991, -0.07018105,  1.63366941,\n",
       "        -1.33422795, -0.0571348 ,  2.30493093, -0.48761694, -0.06984158],\n",
       "       [-0.35811011,  0.05158027,  1.62345292, -0.12000911, -1.401454  ,\n",
       "        -0.18540296, -1.58324162, -0.07996991, -0.07018105,  1.63366941,\n",
       "        -1.33422795, -0.0571348 , -0.43385248,  2.0507901 , -0.06984158],\n",
       "       [ 1.06002029,  1.77895517, -0.61597105, -0.12000911,  0.71354465,\n",
       "        -0.18540296,  0.63161554, -0.07996991, -0.07018105, -0.61211895,\n",
       "        -1.33422795, -0.0571348 ,  2.30493093, -0.48761694, -0.06984158],\n",
       "       [ 0.35095509,  1.77895517, -0.61597105, -0.12000911,  0.71354465,\n",
       "        -0.18540296,  0.63161554, -0.07996991, -0.07018105, -0.61211895,\n",
       "         0.74949711, -0.0571348 , -0.43385248, -0.48761694, -0.06984158],\n",
       "       [-0.35811011,  0.05158027, -0.61597105, -0.12000911,  0.71354465,\n",
       "        -0.18540296, -1.58324162, -0.07996991, -0.07018105,  1.63366941,\n",
       "        -1.33422795, -0.0571348 , -0.43385248,  2.0507901 , -0.06984158]])"
      ]
     },
     "execution_count": 13,
     "metadata": {},
     "output_type": "execute_result"
    }
   ],
   "source": [
    "X = preprocessing.StandardScaler().fit(X).transform(X)\n",
    "X[0:5]"
   ]
  },
  {
   "cell_type": "code",
   "execution_count": 14,
   "metadata": {},
   "outputs": [
    {
     "data": {
      "text/plain": [
       "array([2, 1, 1, 1, 2])"
      ]
     },
     "execution_count": 14,
     "metadata": {},
     "output_type": "execute_result"
    }
   ],
   "source": [
    "y[0:5]"
   ]
  },
  {
   "cell_type": "markdown",
   "metadata": {},
   "source": [
    "### 4. Modelling\n",
    "### Classification Algorithms - Machine Learning models\n",
    "#### a) Decision Tree"
   ]
  },
  {
   "cell_type": "code",
   "execution_count": 15,
   "metadata": {},
   "outputs": [],
   "source": [
    "# Splitting the dataset into training and testing sets\n",
    "\n",
    "from sklearn.model_selection import train_test_split\n",
    "x_train,x_test,y_train,y_test = train_test_split(X,y, test_size=0.3, random_state=3)"
   ]
  },
  {
   "cell_type": "code",
   "execution_count": 16,
   "metadata": {},
   "outputs": [
    {
     "name": "stdout",
     "output_type": "stream",
     "text": [
      "Initial classification :    [1 1 1 1 1]\n",
      "Predicted classification :  [1 1 1 1 1]\n",
      "Training set accuracy :  0.7219023443081811\n",
      "Test set accuracy :  0.7273083862869695\n"
     ]
    }
   ],
   "source": [
    "# Decision tree classifier\n",
    "\n",
    "from sklearn.tree import DecisionTreeClassifier as dtc\n",
    "from sklearn import metrics\n",
    "\n",
    "tree = dtc(criterion='entropy', max_depth=5)\n",
    "tree.fit(x_train,y_train)\n",
    "tree_pred = tree.predict(x_test)\n",
    "print('Initial classification :   ', y_test[0:5])\n",
    "print('Predicted classification : ', tree_pred[0:5])\n",
    "print('Training set accuracy : ', metrics.accuracy_score(y_train, tree.predict(x_train)) )\n",
    "print('Test set accuracy : ', metrics.accuracy_score(y_test,tree_pred))"
   ]
  },
  {
   "cell_type": "markdown",
   "metadata": {},
   "source": [
    "#### b) k-nearest neighbours"
   ]
  },
  {
   "cell_type": "code",
   "execution_count": 17,
   "metadata": {},
   "outputs": [
    {
     "data": {
      "image/png": "[encoded data removed]",
      "text/plain": [
       "<Figure size 432x288 with 1 Axes>"
      ]
     },
     "metadata": {
      "needs_background": "light"
     },
     "output_type": "display_data"
    }
   ],
   "source": [
    "# KNN Classifier\n",
    "from sklearn.neighbors import KNeighborsClassifier as knn\n",
    "\n",
    "# Finding the best k to use for the model\n",
    "k_max = 10\n",
    "mean_acc = np.zeros((k_max-1))\n",
    "std_acc = np.zeros((k_max-1))\n",
    "\n",
    "for n in range(1,k_max):\n",
    "    \n",
    "    neig = knn(n_neighbors = n).fit(x_train,y_train)\n",
    "    y_hat = neig.predict(x_test)\n",
    "    mean_acc[n-1] = metrics.accuracy_score(y_test,y_hat)\n",
    "    std_acc[n-1] = np.std(y_hat==y_test)/np.sqrt(y_hat.shape[0])\n",
    "    \n",
    "plt.plot(range(1,k_max),mean_acc,'c')\n",
    "plt.fill_between(range(1,k_max),mean_acc - 1 * std_acc,mean_acc + 1 * std_acc, alpha=0.10)\n",
    "plt.legend(('Accuracy ', '+/- 3*SD'))\n",
    "plt.ylabel('Accuracy ')\n",
    "plt.xlabel('No of Neighbours (K)')\n",
    "plt.tight_layout()\n",
    "plt.show()"
   ]
  },
  {
   "cell_type": "code",
   "execution_count": 18,
   "metadata": {},
   "outputs": [
    {
     "name": "stdout",
     "output_type": "stream",
     "text": [
      "Initial classification :    [1 1 1 1 1]\n",
      "Predicted classification :  [1 2 1 2 1]\n",
      "Training set accuracy :  0.715354420059007\n",
      "Test set accuracy :  0.7186004550090217\n"
     ]
    }
   ],
   "source": [
    "# Using the value of k=4 for the KNN model\n",
    "neigh = knn(n_neighbors=4).fit(x_train,y_train)\n",
    "knn_pred = neigh.predict(x_test)\n",
    "print('Initial classification :   ', y_test[0:5])\n",
    "print('Predicted classification : ', knn_pred[0:5])\n",
    "print('Training set accuracy : ', metrics.accuracy_score(y_train, neigh.predict(x_train)) )\n",
    "print('Test set accuracy : ', metrics.accuracy_score(y_test,knn_pred))"
   ]
  },
  {
   "cell_type": "markdown",
   "metadata": {},
   "source": [
    "#### c) Support Vector Machine"
   ]
  },
  {
   "cell_type": "code",
   "execution_count": 26,
   "metadata": {},
   "outputs": [
    {
     "name": "stderr",
     "output_type": "stream",
     "text": [
      "/opt/conda/envs/Python36/lib/python3.6/site-packages/sklearn/svm/base.py:196: FutureWarning: The default value of gamma will change from 'auto' to 'scale' in version 0.22 to account better for unscaled features. Set gamma explicitly to 'auto' or 'scale' to avoid this warning.\n",
      "  \"avoid this warning.\", FutureWarning)\n"
     ]
    },
    {
     "name": "stdout",
     "output_type": "stream",
     "text": [
      "Initial classification :    [1 1 1 1 1]\n",
      "Predicted classification :  [1 1 1 1 1]\n",
      "Training set accuracy :  0.7216417722263783\n",
      "Test set accuracy :  0.7256413273711462\n"
     ]
    }
   ],
   "source": [
    "from sklearn import svm\n",
    "\n",
    "# Using Radial Basis Function (RBF) kernel function\n",
    "sv2 = svm.SVC(kernel='rbf')\n",
    "sv2.fit(x_train,y_train)\n",
    "svm_pred2 = sv2.predict(x_test)\n",
    "print('Initial classification :   ', y_test[0:5])\n",
    "print('Predicted classification : ', svm_pred2[0:5])\n",
    "print('Training set accuracy : ', metrics.accuracy_score(y_train, sv2.predict(x_train)) )\n",
    "print('Test set accuracy : ', metrics.accuracy_score(y_test,svm_pred2))"
   ]
  },
  {
   "cell_type": "markdown",
   "metadata": {},
   "source": [
    "#### d) Logistic Regression"
   ]
  },
  {
   "cell_type": "code",
   "execution_count": 29,
   "metadata": {},
   "outputs": [
    {
     "name": "stdout",
     "output_type": "stream",
     "text": [
      "Initial classification :    [1 1 1 1 1]\n",
      "Predicted classification :  [1 1 1 1 1]\n",
      "Training set accuracy :  0.6740075145626172\n",
      "Test set accuracy :  0.6801992625715855\n"
     ]
    }
   ],
   "source": [
    "from sklearn.linear_model import LogisticRegression\n",
    "\n",
    "lr = LogisticRegression(C=0.01, solver='liblinear').fit(x_train,y_train)\n",
    "lr_pred = lr.predict(x_test)\n",
    "print('Initial classification :   ', y_test[0:5])\n",
    "print('Predicted classification : ', lr_pred[0:5])\n",
    "print('Training set accuracy : ', metrics.accuracy_score(y_train, lr.predict(x_train)) )\n",
    "print('Test set accuracy : ', metrics.accuracy_score(y_test,lr_pred))"
   ]
  },
  {
   "cell_type": "markdown",
   "metadata": {},
   "source": [
    "### 5. Model Evaluation\n",
    " The entire original dataset (without split) will be used here for the model evaluation based on Jaccard score, F1 score and log loss (for Logistic regression). The same parameters for each model will be used for the evaluation."
   ]
  },
  {
   "cell_type": "code",
   "execution_count": 20,
   "metadata": {},
   "outputs": [],
   "source": [
    "from sklearn.metrics import jaccard_similarity_score as JCS\n",
    "from sklearn.metrics import classification_report as CR\n",
    "from sklearn.metrics import f1_score as F1\n",
    "from sklearn.metrics import log_loss as LL"
   ]
  },
  {
   "cell_type": "markdown",
   "metadata": {},
   "source": [
    "#### a) Jaccard scores"
   ]
  },
  {
   "cell_type": "code",
   "execution_count": 30,
   "metadata": {},
   "outputs": [
    {
     "name": "stdout",
     "output_type": "stream",
     "text": [
      "Jaccard similarity for Decision tree       :  0.7273083862869695\n",
      "Jaccard similarity for KNN                 :  0.7186004550090217\n",
      "Jaccard similarity for SVM                 :  0.7256413273711462\n",
      "Jaccard similarity for Logistic Regression :  0.6801992625715855\n"
     ]
    }
   ],
   "source": [
    "print('Jaccard similarity for Decision tree       : ', JCS(y_test,tree_pred))\n",
    "print('Jaccard similarity for KNN                 : ', JCS(y_test,knn_pred))\n",
    "print('Jaccard similarity for SVM                 : ', JCS(y_test,svm_pred2))\n",
    "print('Jaccard similarity for Logistic Regression : ', JCS(y_test,lr_pred))"
   ]
  },
  {
   "cell_type": "code",
   "execution_count": 21,
   "metadata": {},
   "outputs": [],
   "source": [
    "X_t = X\n",
    "Y_t = y"
   ]
  },
  {
   "cell_type": "code",
   "execution_count": 27,
   "metadata": {},
   "outputs": [
    {
     "name": "stdout",
     "output_type": "stream",
     "text": [
      "Jaccard similarity for Decision tree       :  0.7235359532116947\n",
      "Jaccard similarity for KNN                 :  0.7004477603158445\n",
      "Jaccard similarity for Logistic Regression :  0.6758650717534436\n",
      "Jaccard similarity for Logistic Regression :  0.7231770388980742\n"
     ]
    }
   ],
   "source": [
    "# Decision Tree\n",
    "tree_eval = dtc(criterion='entropy', max_depth=5)\n",
    "tree_eval.fit(X_t,Y_t)\n",
    "tree_pred_eval = tree_eval.predict(X_t)\n",
    "print('Jaccard similarity for Decision tree       : ', JCS(Y_t, tree_pred_eval))\n",
    "\n",
    "# KNN\n",
    "neigh_eval = knn(n_neighbors=4).fit(X_t,Y_t)\n",
    "knn_eval = neigh_eval.predict(X_t)\n",
    "print('Jaccard similarity for KNN                 : ', JCS(Y_t, knn_eval))\n",
    "\n",
    "# Logistic Regression\n",
    "lr_eval = LogisticRegression(C=0.01, solver='liblinear').fit(X_t,Y_t)\n",
    "lr_pred_eval = lr_eval.predict(X_t)\n",
    "print('Jaccard similarity for Logistic Regression : ', JCS(Y_t, lr_pred_eval))\n",
    "\n",
    "# SVM\n",
    "sv = svm.SVC(kernel='rbf')\n",
    "sv.fit(X_t,Y_t)\n",
    "svm_pred = sv.predict(X_t)\n",
    "print('Jaccard similarity for Logistic Regression : ', JCS(Y_t, svm_pred))"
   ]
  },
  {
   "cell_type": "markdown",
   "metadata": {},
   "source": [
    "#### b) F1- Score"
   ]
  },
  {
   "cell_type": "code",
   "execution_count": 31,
   "metadata": {},
   "outputs": [
    {
     "name": "stdout",
     "output_type": "stream",
     "text": [
      "Jaccard similarity for Decision tree       : \n",
      "               precision    recall  f1-score   support\n",
      "\n",
      "           1       0.72      0.97      0.83     34466\n",
      "           2       0.78      0.22      0.35     16522\n",
      "\n",
      "   micro avg       0.73      0.73      0.73     50988\n",
      "   macro avg       0.75      0.60      0.59     50988\n",
      "weighted avg       0.74      0.73      0.67     50988\n",
      "\n",
      "Jaccard similarity for KNN                 : \n",
      "               precision    recall  f1-score   support\n",
      "\n",
      "           1       0.72      0.94      0.82     34466\n",
      "           2       0.68      0.25      0.37     16522\n",
      "\n",
      "   micro avg       0.72      0.72      0.72     50988\n",
      "   macro avg       0.70      0.60      0.59     50988\n",
      "weighted avg       0.71      0.72      0.67     50988\n",
      "\n",
      "Jaccard similarity for SVM                 : \n",
      "               precision    recall  f1-score   support\n",
      "\n",
      "           1       0.72      0.96      0.83     34466\n",
      "           2       0.75      0.23      0.35     16522\n",
      "\n",
      "   micro avg       0.73      0.73      0.73     50988\n",
      "   macro avg       0.74      0.60      0.59     50988\n",
      "weighted avg       0.73      0.73      0.67     50988\n",
      "\n",
      "Jaccard similarity for Logistic Regression : \n",
      "               precision    recall  f1-score   support\n",
      "\n",
      "           1       0.69      0.97      0.80     34466\n",
      "           2       0.54      0.08      0.14     16522\n",
      "\n",
      "   micro avg       0.68      0.68      0.68     50988\n",
      "   macro avg       0.62      0.52      0.47     50988\n",
      "weighted avg       0.64      0.68      0.59     50988\n",
      "\n"
     ]
    }
   ],
   "source": [
    "print('Jaccard similarity for Decision tree       : \\n', CR(y_test,tree_pred))\n",
    "print('Jaccard similarity for KNN                 : \\n', CR(y_test,knn_pred))\n",
    "print('Jaccard similarity for SVM                 : \\n', CR(y_test,svm_pred2))\n",
    "print('Jaccard similarity for Logistic Regression : \\n', CR(y_test,lr_pred))"
   ]
  },
  {
   "cell_type": "code",
   "execution_count": 32,
   "metadata": {},
   "outputs": [
    {
     "name": "stdout",
     "output_type": "stream",
     "text": [
      "F1 Score for Decision tree      : \n",
      "               precision    recall  f1-score   support\n",
      "\n",
      "           1       0.72      0.97      0.82    114274\n",
      "           2       0.77      0.22      0.34     55683\n",
      "\n",
      "   micro avg       0.72      0.72      0.72    169957\n",
      "   macro avg       0.75      0.59      0.58    169957\n",
      "weighted avg       0.74      0.72      0.67    169957\n",
      "\n",
      "F1 Score for KNN                 : \n",
      "               precision    recall  f1-score   support\n",
      "\n",
      "           1       0.70      0.96      0.81    114274\n",
      "           2       0.68      0.16      0.26     55683\n",
      "\n",
      "   micro avg       0.70      0.70      0.70    169957\n",
      "   macro avg       0.69      0.56      0.54    169957\n",
      "weighted avg       0.70      0.70      0.63    169957\n",
      "\n",
      "F1 Score for Logistic Regression : \n",
      "               precision    recall  f1-score   support\n",
      "\n",
      "           1       0.68      0.97      0.80    114274\n",
      "           2       0.54      0.08      0.14     55683\n",
      "\n",
      "   micro avg       0.68      0.68      0.68    169957\n",
      "   macro avg       0.61      0.52      0.47    169957\n",
      "weighted avg       0.63      0.68      0.58    169957\n",
      "\n",
      "F1 Score for SVM                 : \n",
      "               precision    recall  f1-score   support\n",
      "\n",
      "           1       0.72      0.96      0.82    114274\n",
      "           2       0.76      0.23      0.35     55683\n",
      "\n",
      "   micro avg       0.72      0.72      0.72    169957\n",
      "   macro avg       0.74      0.60      0.59    169957\n",
      "weighted avg       0.73      0.72      0.67    169957\n",
      "\n"
     ]
    }
   ],
   "source": [
    "print ('F1 Score for Decision tree      : \\n', CR(Y_t, tree_pred_eval))\n",
    "print('F1 Score for KNN                 : \\n', CR(Y_t, knn_eval))\n",
    "print('F1 Score for Logistic Regression : \\n', CR(Y_t, lr_pred_eval))\n",
    "print('F1 Score for SVM                 : \\n', CR(Y_t, svm_pred))"
   ]
  },
  {
   "cell_type": "markdown",
   "metadata": {},
   "source": [
    "#### c) Log loss for Logistic regression"
   ]
  },
  {
   "cell_type": "code",
   "execution_count": 25,
   "metadata": {},
   "outputs": [
    {
     "name": "stdout",
     "output_type": "stream",
     "text": [
      "Log loss of Logistic Regression :  23.22337713038452\n"
     ]
    }
   ],
   "source": [
    "print('Log loss of Logistic Regression : ', LL(Y_t, lr_pred))"
   ]
  },
  {
   "cell_type": "code",
   "execution_count": null,
   "metadata": {},
   "outputs": [],
   "source": []
  }
 ],
 "metadata": {
  "kernelspec": {
   "display_name": "Python 3.6",
   "language": "python",
   "name": "python3"
  },
  "language_info": {
   "codemirror_mode": {
    "name": "ipython",
    "version": 3
   },
   "file_extension": ".py",
   "mimetype": "text/x-python",
   "name": "python",
   "nbconvert_exporter": "python",
   "pygments_lexer": "ipython3",
   "version": "3.6.9"
  }
 },
 "nbformat": 4,
 "nbformat_minor": 1
}
